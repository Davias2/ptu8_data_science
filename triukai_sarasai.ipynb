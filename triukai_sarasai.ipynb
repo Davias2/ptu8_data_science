{
 "cells": [
  {
   "attachments": {},
   "cell_type": "markdown",
   "metadata": {},
   "source": [
    "# map()"
   ]
  },
  {
   "cell_type": "code",
   "execution_count": 1,
   "metadata": {},
   "outputs": [
    {
     "data": {
      "text/plain": [
       "[4, 3, 2, 1]"
      ]
     },
     "execution_count": 1,
     "metadata": {},
     "output_type": "execute_result"
    }
   ],
   "source": [
    "sarasas = [4, 3, 2, 1]\n",
    "sarasas"
   ]
  },
  {
   "cell_type": "code",
   "execution_count": 3,
   "metadata": {},
   "outputs": [
    {
     "data": {
      "text/plain": [
       "[16, 9, 4, 1]"
      ]
     },
     "execution_count": 3,
     "metadata": {},
     "output_type": "execute_result"
    }
   ],
   "source": [
    "sarasas_kvadratu = []\n",
    "for skaicius in sarasas:\n",
    "    sarasas_kvadratu.append(skaicius ** 2)\n",
    "sarasas_kvadratu"
   ]
  },
  {
   "cell_type": "code",
   "execution_count": 6,
   "metadata": {},
   "outputs": [
    {
     "data": {
      "text/plain": [
       "[16, 9, 4, 1]"
      ]
     },
     "execution_count": 6,
     "metadata": {},
     "output_type": "execute_result"
    }
   ],
   "source": [
    "def kvadratu(skaicius):\n",
    "    return skaicius ** 2\n",
    "\n",
    "alt_kvadratu = map(kvadratu, sarasas)\n",
    "list(alt_kvadratu)"
   ]
  },
  {
   "cell_type": "code",
   "execution_count": 13,
   "metadata": {},
   "outputs": [
    {
     "data": {
      "text/plain": [
       "[16, 9, 4, 1]"
      ]
     },
     "execution_count": 13,
     "metadata": {},
     "output_type": "execute_result"
    }
   ],
   "source": [
    "lambda_kvadratu = map(lambda skaicius: skaicius ** 2, sarasas)\n",
    "list(lambda_kvadratu)"
   ]
  },
  {
   "cell_type": "code",
   "execution_count": 11,
   "metadata": {},
   "outputs": [
    {
     "data": {
      "text/plain": [
       "datetime.date(2023, 1, 31)"
      ]
     },
     "execution_count": 11,
     "metadata": {},
     "output_type": "execute_result"
    }
   ],
   "source": [
    "from datetime import date\n",
    "\n",
    "ivesta_data = \"2023-01-31\"\n",
    "metai, menuo, diena = map(int, ivesta_data.split('-'))\n",
    "tikra_data = date(metai, menuo, diena)\n",
    "tikra_data"
   ]
  },
  {
   "attachments": {},
   "cell_type": "markdown",
   "metadata": {},
   "source": [
    "# filter()"
   ]
  },
  {
   "cell_type": "code",
   "execution_count": 16,
   "metadata": {},
   "outputs": [
    {
     "data": {
      "text/plain": [
       "[4, 3]"
      ]
     },
     "execution_count": 16,
     "metadata": {},
     "output_type": "execute_result"
    }
   ],
   "source": [
    "def daugiau_nei_du(sarasas):\n",
    "    sarasas_2 = []\n",
    "    for skaicius in sarasas:\n",
    "        if skaicius > 2:\n",
    "            sarasas_2.append(skaicius)\n",
    "    return sarasas_2\n",
    "\n",
    "daugiau_nei_du(sarasas)"
   ]
  },
  {
   "cell_type": "code",
   "execution_count": 18,
   "metadata": {},
   "outputs": [
    {
     "data": {
      "text/plain": [
       "[4, 3]"
      ]
     },
     "execution_count": 18,
     "metadata": {},
     "output_type": "execute_result"
    }
   ],
   "source": [
    "d_uz_du = filter(lambda skaicius: skaicius > 2, sarasas)\n",
    "list(d_uz_du)"
   ]
  },
  {
   "cell_type": "code",
   "execution_count": 23,
   "metadata": {},
   "outputs": [
    {
     "data": {
      "text/plain": [
       "[-10, -8, -6, -4, -2, 0, 2, 4, 6, 8, 10, 12, 14, 16, 18]"
      ]
     },
     "execution_count": 23,
     "metadata": {},
     "output_type": "execute_result"
    }
   ],
   "source": [
    "aibe = list(range(-10, 20))\n",
    "lyginiai = filter(lambda skaicius: skaicius % 2 == 0, aibe)\n",
    "list(lyginiai)"
   ]
  },
  {
   "cell_type": "code",
   "execution_count": 24,
   "metadata": {},
   "outputs": [
    {
     "data": {
      "text/plain": [
       "[1952,\n",
       " 1956,\n",
       " 1960,\n",
       " 1964,\n",
       " 1968,\n",
       " 1972,\n",
       " 1976,\n",
       " 1980,\n",
       " 1984,\n",
       " 1988,\n",
       " 1992,\n",
       " 1996,\n",
       " 2000,\n",
       " 2004,\n",
       " 2008,\n",
       " 2012,\n",
       " 2016,\n",
       " 2020,\n",
       " 2024,\n",
       " 2028,\n",
       " 2032,\n",
       " 2036,\n",
       " 2040,\n",
       " 2044,\n",
       " 2048,\n",
       " 2052,\n",
       " 2056,\n",
       " 2060,\n",
       " 2064,\n",
       " 2068,\n",
       " 2072,\n",
       " 2076,\n",
       " 2080,\n",
       " 2084,\n",
       " 2088,\n",
       " 2092,\n",
       " 2096,\n",
       " 2104,\n",
       " 2108,\n",
       " 2112,\n",
       " 2116,\n",
       " 2120,\n",
       " 2124,\n",
       " 2128,\n",
       " 2132,\n",
       " 2136,\n",
       " 2140,\n",
       " 2144,\n",
       " 2148]"
      ]
     },
     "execution_count": 24,
     "metadata": {},
     "output_type": "execute_result"
    }
   ],
   "source": [
    "import calendar\n",
    "metai = list(range(1950, 2150))\n",
    "keliamieji = filter(calendar.isleap, metai)\n",
    "list(keliamieji)"
   ]
  },
  {
   "attachments": {},
   "cell_type": "markdown",
   "metadata": {},
   "source": [
    "# reduce()"
   ]
  }
 ],
 "metadata": {
  "kernelspec": {
   "display_name": "venv",
   "language": "python",
   "name": "python3"
  },
  "language_info": {
   "codemirror_mode": {
    "name": "ipython",
    "version": 3
   },
   "file_extension": ".py",
   "mimetype": "text/x-python",
   "name": "python",
   "nbconvert_exporter": "python",
   "pygments_lexer": "ipython3",
   "version": "3.8.10"
  },
  "orig_nbformat": 4,
  "vscode": {
   "interpreter": {
    "hash": "fb638a7611dd751c98c4868f8b07efdb6561848469f9a017ff0265dbc4e7eaf7"
   }
  }
 },
 "nbformat": 4,
 "nbformat_minor": 2
}
